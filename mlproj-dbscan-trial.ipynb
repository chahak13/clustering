{
 "cells": [
  {
   "cell_type": "code",
   "execution_count": 102,
   "id": "9f9da6b1",
   "metadata": {},
   "outputs": [],
   "source": [
    "import torch\n",
    "import torchvision\n",
    "import torchvision.transforms as transforms\n",
    "torch.multiprocessing.set_sharing_strategy('file_system')"
   ]
  },
  {
   "cell_type": "code",
   "execution_count": 103,
   "id": "a2935dea",
   "metadata": {},
   "outputs": [
    {
     "data": {
      "text/plain": [
       "Net(\n",
       "  (conv1): Conv2d(3, 6, kernel_size=(5, 5), stride=(1, 1))\n",
       "  (pool): MaxPool2d(kernel_size=2, stride=2, padding=0, dilation=1, ceil_mode=False)\n",
       "  (conv2): Conv2d(6, 16, kernel_size=(5, 5), stride=(1, 1))\n",
       "  (fc1): Linear(in_features=400, out_features=120, bias=True)\n",
       "  (fc2): Linear(in_features=120, out_features=84, bias=True)\n",
       "  (fc3): Linear(in_features=84, out_features=10, bias=True)\n",
       ")"
      ]
     },
     "execution_count": 103,
     "metadata": {},
     "output_type": "execute_result"
    }
   ],
   "source": [
    "import torch.nn as nn\n",
    "import torch.nn.functional as F\n",
    "\n",
    "\n",
    "class Net(nn.Module):\n",
    "    def __init__(self):\n",
    "        super().__init__()\n",
    "        self.conv1 = nn.Conv2d(3, 6, 5)\n",
    "        self.pool = nn.MaxPool2d(2, 2)\n",
    "        self.conv2 = nn.Conv2d(6, 16, 5)\n",
    "        self.fc1 = nn.Linear(16 * 5 * 5, 120)\n",
    "        self.fc2 = nn.Linear(120, 84)\n",
    "        self.fc3 = nn.Linear(84, 10)\n",
    "\n",
    "    def forward(self, x):\n",
    "        x = self.pool(F.relu(self.conv1(x)))\n",
    "        x = self.pool(F.relu(self.conv2(x)))\n",
    "        x = torch.flatten(x, 1) # flatten all dimensions except batch\n",
    "        x = F.relu(self.fc1(x))\n",
    "        embedding = F.relu(self.fc2(x))\n",
    "        # embedding = x.clone()\n",
    "        x = self.fc3(embedding)\n",
    "        return x, embedding\n",
    "\n",
    "    # def embedding(self, x):\n",
    "    #     x = self.pool(F.relu(self.conv1(x)))\n",
    "    #     x = self.pool(F.relu(self.conv2(x)))\n",
    "    #     x = torch.flatten(x, 1)\n",
    "    #     x = F.relu(self.fc1(x))\n",
    "    #     x = F.relu(self.fc2(x))\n",
    "    #     return x\n",
    "\n",
    "net_state_dict = torch.load(\"cifar_trained.pth\")\n",
    "net = Net()\n",
    "net.load_state_dict(net_state_dict)\n",
    "net.eval()"
   ]
  },
  {
   "cell_type": "code",
   "execution_count": 221,
   "id": "563dd0d8",
   "metadata": {},
   "outputs": [
    {
     "name": "stdout",
     "output_type": "stream",
     "text": [
      "Files already downloaded and verified\n",
      "Files already downloaded and verified\n"
     ]
    }
   ],
   "source": [
    "transform = transforms.Compose(\n",
    "    [transforms.ToTensor(),\n",
    "     transforms.Normalize((0.5, 0.5, 0.5), (0.5, 0.5, 0.5))])\n",
    "\n",
    "batch_size = 4\n",
    "\n",
    "trainset = torchvision.datasets.CIFAR10(root='/workspace/CHAHAK/dsml/project/data/cifar-10-batches-py', train=True,\n",
    "                                        download=True, transform=transform)\n",
    "trainloader = torch.utils.data.DataLoader(trainset, batch_size=batch_size,\n",
    "                                          shuffle=True, num_workers=2)\n",
    "\n",
    "testset = torchvision.datasets.CIFAR10(root='/workspace/CHAHAK/dsml/project/data/cifar-10-batches-py', train=False,\n",
    "                                       download=True, transform=transform)\n",
    "testloader = torch.utils.data.DataLoader(testset, batch_size=batch_size,\n",
    "                                         shuffle=False, num_workers=2)\n",
    "\n",
    "classes = ('plane', 'car', 'bird', 'cat',\n",
    "           'deer', 'dog', 'frog', 'horse', 'ship', 'truck')"
   ]
  },
  {
   "cell_type": "code",
   "execution_count": 105,
   "id": "cba39214",
   "metadata": {},
   "outputs": [],
   "source": [
    "\n",
    "embeddings, all_labels = [], []\n",
    "for i, data in (enumerate(testloader, 0)):\n",
    "    inputs, labels = data\n",
    "    _, emb = net(inputs)\n",
    "    embeddings.append(emb.detach().numpy())\n",
    "    all_labels.extend(labels)"
   ]
  },
  {
   "cell_type": "code",
   "execution_count": 106,
   "id": "7ac9dba3",
   "metadata": {},
   "outputs": [
    {
     "data": {
      "text/plain": [
       "(10000, 84)"
      ]
     },
     "execution_count": 106,
     "metadata": {},
     "output_type": "execute_result"
    }
   ],
   "source": [
    "import numpy as np\n",
    "\n",
    "embedding_array = np.vstack(embeddings)\n",
    "embedding_array.shape"
   ]
  },
  {
   "cell_type": "markdown",
   "id": "9bcc54a3",
   "metadata": {},
   "source": [
    "# K-means clustering"
   ]
  },
  {
   "cell_type": "code",
   "execution_count": 107,
   "id": "9e157530",
   "metadata": {},
   "outputs": [
    {
     "data": {
      "text/plain": [
       "0.32385729611117214"
      ]
     },
     "execution_count": 107,
     "metadata": {},
     "output_type": "execute_result"
    }
   ],
   "source": [
    "from sklearn.cluster import KMeans\n",
    "from sklearn.pipeline import make_pipeline\n",
    "from sklearn.preprocessing import StandardScaler\n",
    "from sklearn.metrics import homogeneity_score\n",
    "\n",
    "kmeans = KMeans(n_clusters=10)\n",
    "estimator = make_pipeline(StandardScaler(), kmeans).fit(embedding_array)\n",
    "homogeneity_score(all_labels, estimator[-1].labels_)"
   ]
  },
  {
   "cell_type": "code",
   "execution_count": 108,
   "id": "9930b1d3",
   "metadata": {
    "scrolled": true
   },
   "outputs": [
    {
     "data": {
      "image/png": "[encoded data removed]",
      "text/plain": [
       "<Figure size 432x288 with 1 Axes>"
      ]
     },
     "metadata": {
      "needs_background": "light"
     },
     "output_type": "display_data"
    }
   ],
   "source": [
    "import matplotlib.pyplot as plt\n",
    "\n",
    "fig, ax = plt.subplots()\n",
    "_ = ax.hist(estimator[-1].labels_, bins=100)"
   ]
  },
  {
   "cell_type": "markdown",
   "id": "6dfa8d35",
   "metadata": {},
   "source": [
    "# DBSCAN Clean-1 (hyperparameters not set)"
   ]
  },
  {
   "cell_type": "code",
   "execution_count": 222,
   "id": "5cc60567",
   "metadata": {},
   "outputs": [],
   "source": [
    "import numpy as np\n",
    "from sklearn.metrics.pairwise import euclidean_distances\n",
    "from sklearn.cluster import DBSCAN\n",
    "from sklearn import metrics\n",
    "from sklearn.preprocessing import StandardScaler"
   ]
  },
  {
   "cell_type": "code",
   "execution_count": 223,
   "id": "8771d0a6",
   "metadata": {
    "scrolled": true
   },
   "outputs": [
    {
     "data": {
      "text/plain": [
       "array([[ 0.       , 10.324991 ,  6.8204637, ...,  3.9978726,  6.765473 ,\n",
       "         7.9468017],\n",
       "       [10.324991 ,  0.       ,  6.433682 , ..., 10.65164  ,  8.876804 ,\n",
       "        12.197256 ],\n",
       "       [ 6.8204637,  6.433682 ,  0.       , ...,  7.167403 ,  7.9550276,\n",
       "         9.686363 ],\n",
       "       ...,\n",
       "       [ 3.9978726, 10.65164  ,  7.167403 , ...,  0.       ,  8.084082 ,\n",
       "         8.191697 ],\n",
       "       [ 6.765473 ,  8.876804 ,  7.9550276, ...,  8.084082 ,  0.       ,\n",
       "         9.60235  ],\n",
       "       [ 7.9468017, 12.197256 ,  9.686363 , ...,  8.191697 ,  9.60235  ,\n",
       "         0.       ]], dtype=float32)"
      ]
     },
     "execution_count": 223,
     "metadata": {},
     "output_type": "execute_result"
    }
   ],
   "source": [
    "d=euclidean_distances(embedding_array, embedding_array)\n",
    "d"
   ]
  },
  {
   "cell_type": "markdown",
   "id": "5c25dc82",
   "metadata": {},
   "source": [
    "## Plotting distances for different values of epsilon.\n",
    "\n",
    "Goal is to get approx 1000 per label number on the graph.\n"
   ]
  },
  {
   "cell_type": "code",
   "execution_count": 231,
   "id": "25c4cbfb",
   "metadata": {},
   "outputs": [
    {
     "data": {
      "image/png": "[encoded data removed]",
      "text/plain": [
       "<Figure size 432x288 with 1 Axes>"
      ]
     },
     "metadata": {
      "needs_background": "light"
     },
     "output_type": "display_data"
    },
    {
     "data": {
      "image/png": "[encoded data removed]",
      "text/plain": [
       "<Figure size 432x288 with 1 Axes>"
      ]
     },
     "metadata": {
      "needs_background": "light"
     },
     "output_type": "display_data"
    },
    {
     "data": {
      "image/png": "[encoded data removed]",
      "text/plain": [
       "<Figure size 432x288 with 1 Axes>"
      ]
     },
     "metadata": {
      "needs_background": "light"
     },
     "output_type": "display_data"
    },
    {
     "data": {
      "image/png": "[encoded data removed]",
      "text/plain": [
       "<Figure size 432x288 with 1 Axes>"
      ]
     },
     "metadata": {
      "needs_background": "light"
     },
     "output_type": "display_data"
    },
    {
     "data": {
      "image/png": "[encoded data removed]",
      "text/plain": [
       "<Figure size 432x288 with 1 Axes>"
      ]
     },
     "metadata": {
      "needs_background": "light"
     },
     "output_type": "display_data"
    },
    {
     "data": {
      "image/png": "[encoded data removed]",
      "text/plain": [
       "<Figure size 432x288 with 1 Axes>"
      ]
     },
     "metadata": {
      "needs_background": "light"
     },
     "output_type": "display_data"
    },
    {
     "data": {
      "image/png": "[encoded data removed]",
      "text/plain": [
       "<Figure size 432x288 with 1 Axes>"
      ]
     },
     "metadata": {
      "needs_background": "light"
     },
     "output_type": "display_data"
    },
    {
     "data": {
      "image/png": "[encoded data removed]",
      "text/plain": [
       "<Figure size 432x288 with 1 Axes>"
      ]
     },
     "metadata": {
      "needs_background": "light"
     },
     "output_type": "display_data"
    },
    {
     "data": {
      "image/png": "[encoded data removed]",
      "text/plain": [
       "<Figure size 432x288 with 1 Axes>"
      ]
     },
     "metadata": {
      "needs_background": "light"
     },
     "output_type": "display_data"
    },
    {
     "data": {
      "image/png": "[encoded data removed]",
      "text/plain": [
       "<Figure size 432x288 with 1 Axes>"
      ]
     },
     "metadata": {
      "needs_background": "light"
     },
     "output_type": "display_data"
    }
   ],
   "source": [
    "xx=np.linspace(1.2,2,num=10)\n",
    "\n",
    "count=0\n",
    "for i in xx:\n",
    "\n",
    "    db = DBSCAN(eps=i, min_samples=5).fit(embedding_array)\n",
    "    unique, counts = np.unique(db.labels_, return_counts=True)\n",
    "    plt.figure(count)\n",
    "    plt.scatter(unique,counts)\n",
    "    count=count+1\n",
    "    "
   ]
  },
  {
   "cell_type": "code",
   "execution_count": 232,
   "id": "83e6c4bf",
   "metadata": {},
   "outputs": [
    {
     "data": {
      "text/plain": [
       "array([1.2       , 1.28888889, 1.37777778, 1.46666667, 1.55555556,\n",
       "       1.64444444, 1.73333333, 1.82222222, 1.91111111, 2.        ])"
      ]
     },
     "execution_count": 232,
     "metadata": {},
     "output_type": "execute_result"
    }
   ],
   "source": [
    "xx"
   ]
  },
  {
   "cell_type": "markdown",
   "id": "5a519eaf",
   "metadata": {},
   "source": [
    "### For example, if we take eps=1.35 and min_samples=5, we get:"
   ]
  },
  {
   "cell_type": "code",
   "execution_count": 233,
   "id": "ce7aaaec",
   "metadata": {},
   "outputs": [
    {
     "data": {
      "text/plain": [
       "<matplotlib.collections.PathCollection at 0x15eaa5ba3a0>"
      ]
     },
     "execution_count": 233,
     "metadata": {},
     "output_type": "execute_result"
    },
    {
     "data": {
      "image/png": "[encoded data removed]",
      "text/plain": [
       "<Figure size 432x288 with 1 Axes>"
      ]
     },
     "metadata": {
      "needs_background": "light"
     },
     "output_type": "display_data"
    }
   ],
   "source": [
    "db = DBSCAN(eps=1.35, min_samples=5).fit(embedding_array)\n",
    "unique, counts = np.unique(db.labels_, return_counts=True)\n",
    "plt.scatter(unique,counts)"
   ]
  },
  {
   "cell_type": "markdown",
   "id": "47674411",
   "metadata": {},
   "source": [
    "### This is good since we are at least getting ~10 classes, but almost all imgs are unclustered. so this is terrible."
   ]
  },
  {
   "cell_type": "code",
   "execution_count": 236,
   "id": "226de91c",
   "metadata": {},
   "outputs": [],
   "source": [
    "res=np.column_stack((unique,counts))"
   ]
  },
  {
   "cell_type": "code",
   "execution_count": 237,
   "id": "ac166296",
   "metadata": {},
   "outputs": [
    {
     "data": {
      "text/plain": [
       "array([[  -1, 9256],\n",
       "       [   0,  679],\n",
       "       [   1,    4],\n",
       "       [   2,    7],\n",
       "       [   3,    8],\n",
       "       [   4,    3],\n",
       "       [   5,    4],\n",
       "       [   6,    6],\n",
       "       [   7,    6],\n",
       "       [   8,    5],\n",
       "       [   9,    6],\n",
       "       [  10,    6],\n",
       "       [  11,    4],\n",
       "       [  12,    6]], dtype=int64)"
      ]
     },
     "execution_count": 237,
     "metadata": {},
     "output_type": "execute_result"
    }
   ],
   "source": [
    "res"
   ]
  },
  {
   "cell_type": "code",
   "execution_count": null,
   "id": "5c4dbe91",
   "metadata": {},
   "outputs": [],
   "source": []
  },
  {
   "cell_type": "markdown",
   "id": "073faaa6",
   "metadata": {},
   "source": [
    "# DBSCAN roughwork\n",
    "(Ignore, for self reference. Will remove soon.)"
   ]
  },
  {
   "cell_type": "code",
   "execution_count": 109,
   "id": "20f87b11",
   "metadata": {},
   "outputs": [],
   "source": [
    "import numpy as np\n",
    "from sklearn.metrics.pairwise import euclidean_distances\n",
    "from sklearn.cluster import DBSCAN\n",
    "from sklearn import metrics\n",
    "from sklearn.preprocessing import StandardScaler"
   ]
  },
  {
   "cell_type": "code",
   "execution_count": 110,
   "id": "26c72dc4",
   "metadata": {
    "scrolled": false
   },
   "outputs": [
    {
     "data": {
      "text/plain": [
       "array([[0.4635283 , 0.04606063, 0.        , ..., 0.4569245 , 0.        ,\n",
       "        0.50410897],\n",
       "       [0.        , 2.1750524 , 0.        , ..., 0.        , 0.        ,\n",
       "        0.4296655 ],\n",
       "       [0.        , 1.063138  , 0.        , ..., 0.45108694, 0.        ,\n",
       "        0.16996802],\n",
       "       ...,\n",
       "       [0.        , 0.03085645, 0.        , ..., 0.2746104 , 0.        ,\n",
       "        0.22153799],\n",
       "       [0.        , 0.        , 0.        , ..., 0.34808582, 0.        ,\n",
       "        0.        ],\n",
       "       [0.        , 0.        , 0.        , ..., 0.        , 0.        ,\n",
       "        0.        ]], dtype=float32)"
      ]
     },
     "execution_count": 110,
     "metadata": {},
     "output_type": "execute_result"
    }
   ],
   "source": [
    "embedding_array"
   ]
  },
  {
   "cell_type": "code",
   "execution_count": 111,
   "id": "cc873051",
   "metadata": {},
   "outputs": [
    {
     "data": {
      "text/plain": [
       "array([[ 0.       , 10.324991 ,  6.8204637, ...,  3.9978726,  6.765473 ,\n",
       "         7.9468017],\n",
       "       [10.324991 ,  0.       ,  6.433682 , ..., 10.65164  ,  8.876804 ,\n",
       "        12.197256 ],\n",
       "       [ 6.8204637,  6.433682 ,  0.       , ...,  7.167403 ,  7.9550276,\n",
       "         9.686363 ],\n",
       "       ...,\n",
       "       [ 3.9978726, 10.65164  ,  7.167403 , ...,  0.       ,  8.084082 ,\n",
       "         8.191697 ],\n",
       "       [ 6.765473 ,  8.876804 ,  7.9550276, ...,  8.084082 ,  0.       ,\n",
       "         9.60235  ],\n",
       "       [ 7.9468017, 12.197256 ,  9.686363 , ...,  8.191697 ,  9.60235  ,\n",
       "         0.       ]], dtype=float32)"
      ]
     },
     "execution_count": 111,
     "metadata": {},
     "output_type": "execute_result"
    }
   ],
   "source": [
    "d=euclidean_distances(embedding_array, embedding_array)\n",
    "d"
   ]
  },
  {
   "cell_type": "code",
   "execution_count": 112,
   "id": "98356f56",
   "metadata": {},
   "outputs": [
    {
     "data": {
      "text/plain": [
       "array([5.50703242])"
      ]
     },
     "execution_count": 112,
     "metadata": {},
     "output_type": "execute_result"
    }
   ],
   "source": [
    "d[0].sum()/d[0].shape"
   ]
  },
  {
   "cell_type": "code",
   "execution_count": 113,
   "id": "8d369818",
   "metadata": {},
   "outputs": [
    {
     "data": {
      "text/plain": [
       "(10000, 10000)"
      ]
     },
     "execution_count": 113,
     "metadata": {},
     "output_type": "execute_result"
    }
   ],
   "source": [
    "d.shape"
   ]
  },
  {
   "cell_type": "code",
   "execution_count": 201,
   "id": "52529d58",
   "metadata": {},
   "outputs": [],
   "source": [
    "db = DBSCAN(eps=2, min_samples=10).fit(embedding_array)"
   ]
  },
  {
   "cell_type": "code",
   "execution_count": 202,
   "id": "ad6038c5",
   "metadata": {},
   "outputs": [
    {
     "name": "stdout",
     "output_type": "stream",
     "text": [
      "{0, 1, 2, -1}\n"
     ]
    }
   ],
   "source": [
    "l=db.labels_\n",
    "print(set(l))\n"
   ]
  },
  {
   "cell_type": "code",
   "execution_count": 203,
   "id": "77291ebd",
   "metadata": {},
   "outputs": [
    {
     "data": {
      "text/plain": [
       "<matplotlib.collections.PathCollection at 0x15ebdbd9910>"
      ]
     },
     "execution_count": 203,
     "metadata": {},
     "output_type": "execute_result"
    },
    {
     "data": {
      "image/png": "[encoded data removed]",
      "text/plain": [
       "<Figure size 432x288 with 1 Axes>"
      ]
     },
     "metadata": {
      "needs_background": "light"
     },
     "output_type": "display_data"
    }
   ],
   "source": [
    "unique, counts = np.unique(l, return_counts=True)\n",
    "plt.scatter(unique,counts)"
   ]
  },
  {
   "cell_type": "code",
   "execution_count": 215,
   "id": "220e6f49",
   "metadata": {},
   "outputs": [],
   "source": []
  },
  {
   "cell_type": "code",
   "execution_count": 216,
   "id": "2b63409f",
   "metadata": {},
   "outputs": [
    {
     "data": {
      "text/plain": [
       "(10,)"
      ]
     },
     "execution_count": 216,
     "metadata": {},
     "output_type": "execute_result"
    }
   ],
   "source": [
    "xx.shape"
   ]
  },
  {
   "cell_type": "code",
   "execution_count": 219,
   "id": "3c4bf534",
   "metadata": {},
   "outputs": [
    {
     "data": {
      "image/png": "[encoded data removed]",
      "text/plain": [
       "<Figure size 432x288 with 1 Axes>"
      ]
     },
     "metadata": {
      "needs_background": "light"
     },
     "output_type": "display_data"
    },
    {
     "data": {
      "image/png": "[encoded data removed]",
      "text/plain": [
       "<Figure size 432x288 with 1 Axes>"
      ]
     },
     "metadata": {
      "needs_background": "light"
     },
     "output_type": "display_data"
    },
    {
     "data": {
      "image/png": "[encoded data removed]",
      "text/plain": [
       "<Figure size 432x288 with 1 Axes>"
      ]
     },
     "metadata": {
      "needs_background": "light"
     },
     "output_type": "display_data"
    },
    {
     "data": {
      "image/png": "[encoded data removed]",
      "text/plain": [
       "<Figure size 432x288 with 1 Axes>"
      ]
     },
     "metadata": {
      "needs_background": "light"
     },
     "output_type": "display_data"
    },
    {
     "data": {
      "image/png": "[encoded data removed]",
      "text/plain": [
       "<Figure size 432x288 with 1 Axes>"
      ]
     },
     "metadata": {
      "needs_background": "light"
     },
     "output_type": "display_data"
    },
    {
     "data": {
      "image/png": "[encoded data removed]",
      "text/plain": [
       "<Figure size 432x288 with 1 Axes>"
      ]
     },
     "metadata": {
      "needs_background": "light"
     },
     "output_type": "display_data"
    },
    {
     "data": {
      "image/png": "[encoded data removed]",
      "text/plain": [
       "<Figure size 432x288 with 1 Axes>"
      ]
     },
     "metadata": {
      "needs_background": "light"
     },
     "output_type": "display_data"
    },
    {
     "data": {
      "image/png": "[encoded data removed]",
      "text/plain": [
       "<Figure size 432x288 with 1 Axes>"
      ]
     },
     "metadata": {
      "needs_background": "light"
     },
     "output_type": "display_data"
    },
    {
     "data": {
      "image/png": "[encoded data removed]",
      "text/plain": [
       "<Figure size 432x288 with 1 Axes>"
      ]
     },
     "metadata": {
      "needs_background": "light"
     },
     "output_type": "display_data"
    },
    {
     "data": {
      "image/png": "[encoded data removed]",
      "text/plain": [
       "<Figure size 432x288 with 1 Axes>"
      ]
     },
     "metadata": {
      "needs_background": "light"
     },
     "output_type": "display_data"
    }
   ],
   "source": [
    "xx=np.linspace(1,2,num=10)\n",
    "\n",
    "count=0\n",
    "for i in xx:\n",
    "\n",
    "    db = DBSCAN(eps=i, min_samples=5).fit(embedding_array)\n",
    "    unique, counts = np.unique(db.labels_, return_counts=True)\n",
    "    plt.figure(count)\n",
    "    plt.scatter(unique,counts)\n",
    "    count=count+1\n",
    "    "
   ]
  },
  {
   "cell_type": "code",
   "execution_count": null,
   "id": "4d24ef48",
   "metadata": {},
   "outputs": [],
   "source": []
  },
  {
   "cell_type": "code",
   "execution_count": null,
   "id": "ea9bea34",
   "metadata": {},
   "outputs": [],
   "source": []
  },
  {
   "cell_type": "code",
   "execution_count": null,
   "id": "4de7006b",
   "metadata": {},
   "outputs": [],
   "source": []
  },
  {
   "cell_type": "code",
   "execution_count": null,
   "id": "c069bef8",
   "metadata": {},
   "outputs": [],
   "source": []
  },
  {
   "cell_type": "code",
   "execution_count": null,
   "id": "eacab811",
   "metadata": {},
   "outputs": [],
   "source": []
  },
  {
   "cell_type": "code",
   "execution_count": 121,
   "id": "a49c622a",
   "metadata": {},
   "outputs": [],
   "source": [
    "g=torch.tensor(all_labels)"
   ]
  },
  {
   "cell_type": "code",
   "execution_count": 131,
   "id": "ccbd87c0",
   "metadata": {},
   "outputs": [],
   "source": [
    "arr_labls=g.numpy()"
   ]
  },
  {
   "cell_type": "code",
   "execution_count": 43,
   "id": "d55ffa31",
   "metadata": {},
   "outputs": [
    {
     "data": {
      "text/plain": [
       "(10000, 84)"
      ]
     },
     "execution_count": 43,
     "metadata": {},
     "output_type": "execute_result"
    }
   ],
   "source": [
    "embedding_array.shape"
   ]
  },
  {
   "cell_type": "code",
   "execution_count": null,
   "id": "82ffcee0",
   "metadata": {},
   "outputs": [],
   "source": []
  }
 ],
 "metadata": {
  "kernelspec": {
   "display_name": "Python 3 (ipykernel)",
   "language": "python",
   "name": "python3"
  },
  "language_info": {
   "codemirror_mode": {
    "name": "ipython",
    "version": 3
   },
   "file_extension": ".py",
   "mimetype": "text/x-python",
   "name": "python",
   "nbconvert_exporter": "python",
   "pygments_lexer": "ipython3",
   "version": "3.9.7"
  }
 },
 "nbformat": 4,
 "nbformat_minor": 5
}
